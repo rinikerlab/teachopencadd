{
 "cells": [
  {
   "cell_type": "markdown",
   "id": "musical-nation",
   "metadata": {},
   "source": [
    "# Welcome to the Jupyter notebook.\n",
    "\n",
    "## What is this?\n",
    "\n",
    "It's a tool allowing you to combine the following stuff in one place:\n",
    "- code, in this case Python\n",
    "- output from that code, including images\n",
    "- text, including images and mathematical formulas\n",
    "- interactive widgets\n",
    "\n",
    "The notebook itself can be used in an interactive way - you can execute code cells, add new ones, etc - or viewed as a static document.\n",
    "\n",
    "## More resources\n",
    "\n",
    "There's a bunch of material out there explaining how to use Jupyter and showing what's possible with it.\n",
    "Here's one tutorial we found useful:\n",
    "https://www.dataquest.io/blog/jupyter-notebook-tutorial/\n",
    "\n",
    "There are also many, many python tutorials out there. The official one is still one of the best: https://docs.python.org/3/tutorial/\n",
    "\n",
    "We'll be using the RDKit for a lot of our work. The RDKit documentation is here: \n",
    "https://rdkit.org/docs/index.html\n",
    "The \"Getting Started in Python\" document is particularly relevant:\n",
    "https://rdkit.org/docs/GettingStartedInPython.html\n"
   ]
  },
  {
   "cell_type": "markdown",
   "id": "historical-lingerie",
   "metadata": {},
   "source": [
    "# Whirlwind tour of the notebook"
   ]
  },
  {
   "attachments": {
    "image.png": {
     "image/png": "[encoded data removed]"
    }
   },
   "cell_type": "markdown",
   "id": "headed-scotland",
   "metadata": {},
   "source": [
    "## Markdown cells\n",
    "\n",
    "This is a markdown cell. You can tell that by selecting the cell and looking in the jupyter toolbar:\n",
    "![image.png](attachment:image.png)\n",
    "\n",
    "Markdown is a simple markup language (like HTML) for doing nicely formatted text. You can read more about that [here](https://daringfireball.net/projects/markdown/) or find a introduction to how to use Markdown in jupyter [here](https://nbviewer.jupyter.org/github/ipython/ipython/blob/3.x/examples/Notebook/Working%20With%20Markdown%20Cells.ipynb). The Help menu above has more useful links.\n",
    "\n",
    "\n"
   ]
  },
  {
   "cell_type": "markdown",
   "id": "golden-belize",
   "metadata": {},
   "source": [
    "The cell below this one is a code cell. You can enter Python code there. When you execute the cell (Ctrl-Enter on Linux/Windows, Cmd-Enter on the Mac, or Cell->Run Cells from the menu) that code will be executed and the output displayed below it:"
   ]
  },
  {
   "cell_type": "code",
   "execution_count": 1,
   "id": "tested-kansas",
   "metadata": {},
   "outputs": [
    {
     "name": "stdout",
     "output_type": "stream",
     "text": [
      "hello notebook\n"
     ]
    }
   ],
   "source": [
    "print(\"hello notebook\")"
   ]
  },
  {
   "cell_type": "markdown",
   "id": "accessory-logistics",
   "metadata": {},
   "source": [
    "The notebook will also display whatever is on the last line of the cell:"
   ]
  },
  {
   "cell_type": "code",
   "execution_count": 2,
   "id": "damaged-following",
   "metadata": {},
   "outputs": [
    {
     "name": "stdout",
     "output_type": "stream",
     "text": [
      "adding values:\n"
     ]
    },
    {
     "data": {
      "text/plain": [
       "6"
      ]
     },
     "execution_count": 2,
     "metadata": {},
     "output_type": "execute_result"
    }
   ],
   "source": [
    "a = 2\n",
    "b = 4\n",
    "print(\"adding values:\")\n",
    "a+b"
   ]
  },
  {
   "cell_type": "markdown",
   "id": "organic-defensive",
   "metadata": {},
   "source": [
    "You can always go back, edit the contents of a cell, and execute it again."
   ]
  },
  {
   "cell_type": "markdown",
   "id": "modified-basic",
   "metadata": {},
   "source": [
    "## Chemistry and the notebook\n",
    "\n",
    "When you use the RDKit in jupyter, it teaches the notebook how to display molecules, chemical reactions, etc. Here's an example:"
   ]
  },
  {
   "cell_type": "code",
   "execution_count": 3,
   "id": "brutal-boating",
   "metadata": {},
   "outputs": [
    {
     "data": {
      "image/png": "[encoded data removed]",
      "text/plain": [
       "<rdkit.Chem.rdchem.Mol at 0x7f6f0c1c7d60>"
      ]
     },
     "execution_count": 3,
     "metadata": {},
     "output_type": "execute_result"
    }
   ],
   "source": [
    "from rdkit import Chem\n",
    "doravirine = Chem.MolFromSmiles('Cn1c(n[nH]c1=O)Cn2ccc(c(c2=O)Oc3cc(cc(c3)Cl)C#N)C(F)(F)F')\n",
    "doravirine"
   ]
  },
  {
   "cell_type": "code",
   "execution_count": 6,
   "id": "paperback-malaysia",
   "metadata": {},
   "outputs": [
    {
     "data": {
      "application/3dmoljs_load.v0": "<div id=\"3dmolviewer_16288362838366468\"  style=\"position: relative; width: 400px; height: 400px\">\n        <p id=\"3dmolwarning_16288362838366468\" style=\"background-color:#ffcccc;color:black\">You appear to be running in JupyterLab (or JavaScript failed to load for some other reason).  You need to install the 3dmol extension: <br>\n        <tt>jupyter labextension install jupyterlab_3dmol</tt></p>\n        </div>\n<script>\n\nvar loadScriptAsync = function(uri){\n  return new Promise((resolve, reject) => {\n    var tag = document.createElement('script');\n    tag.src = uri;\n    tag.async = true;\n    tag.onload = () => {\n      resolve();\n    };\n  var firstScriptTag = document.getElementsByTagName('script')[0];\n  firstScriptTag.parentNode.insertBefore(tag, firstScriptTag);\n});\n};\n\nif(typeof $3Dmolpromise === 'undefined') {\n$3Dmolpromise = null;\n  $3Dmolpromise = loadScriptAsync('https://3dmol.org/build/3Dmol.js');\n}\n\nvar viewer_16288362838366468 = null;\nvar warn = document.getElementById(\"3dmolwarning_16288362838366468\");\nif(warn) {\n    warn.parentNode.removeChild(warn);\n}\n$3Dmolpromise.then(function() {\nviewer_16288362838366468 = $3Dmol.createViewer($(\"#3dmolviewer_16288362838366468\"),{backgroundColor:\"white\"});\nviewer_16288362838366468.zoomTo();\n\tviewer_16288362838366468.removeAllModels();\n\tviewer_16288362838366468.addModel(\"\\n     RDKit          3D\\n\\n 29 31  0  0  0  0  0  0  0  0999 V2000\\n   -4.6353   -2.3955   -1.1655 C   0  0  0  0  0  0  0  0  0  0  0  0\\n   -4.2600   -1.3380   -0.2016 N   0  0  0  0  0  0  0  0  0  0  0  0\\n   -3.2407   -1.3293    0.5065 C   0  0  0  0  0  0  0  0  0  0  0  0\\n   -3.2992   -0.1437    1.3072 N   0  0  0  0  0  0  0  0  0  0  0  0\\n   -4.4306    0.4839    0.9588 N   0  0  0  0  0  0  0  0  0  0  0  0\\n   -5.0426   -0.2260    0.0343 C   0  0  0  0  0  0  0  0  0  0  0  0\\n   -6.1102   -0.0573   -0.6008 O   0  0  0  0  0  0  0  0  0  0  0  0\\n   -2.0369   -2.2063    0.7472 C   0  0  0  0  0  0  0  0  0  0  0  0\\n   -0.8603   -1.4477    1.0929 N   0  0  0  0  0  0  0  0  0  0  0  0\\n   -0.7420   -1.1840    2.5083 C   0  0  0  0  0  0  0  0  0  0  0  0\\n    0.3307   -0.4528    2.8953 C   0  0  0  0  0  0  0  0  0  0  0  0\\n    1.2505    0.0127    2.0275 C   0  0  0  0  0  0  0  0  0  0  0  0\\n    1.1826   -0.2277    0.5697 C   0  0  0  0  0  0  0  0  0  0  0  0\\n    0.0769   -0.9545    0.3294 C   0  0  0  0  0  0  0  0  0  0  0  0\\n   -0.0802   -1.1972   -0.9650 O   0  0  0  0  0  0  0  0  0  0  0  0\\n    2.1818    0.3223   -0.0258 O   0  0  0  0  0  0  0  0  0  0  0  0\\n    2.5506    0.9158   -1.1805 C   0  0  0  0  0  0  0  0  0  0  0  0\\n    3.8231    1.5459   -0.9957 C   0  0  0  0  0  0  0  0  0  0  0  0\\n    4.4191    2.2299   -2.1596 C   0  0  0  0  0  0  0  0  0  0  0  0\\n    3.7772    2.2307   -3.2677 C   0  0  0  0  0  0  0  0  0  0  0  0\\n    2.5360    1.6215   -3.4643 C   0  0  0  0  0  0  0  0  0  0  0  0\\n    2.0258    1.0057   -2.3813 C   0  0  0  0  0  0  0  0  0  0  0  0\\n    1.8744    1.6655   -5.0887 Cl  0  0  0  0  0  0  0  0  0  0  0  0\\n    5.6690    2.8209   -1.8920 C   0  0  0  0  0  0  0  0  0  0  0  0\\n    6.8760    3.3729   -1.6289 N   0  0  0  0  0  0  0  0  0  0  0  0\\n    2.3787    0.8293    2.4541 C   0  0  0  0  0  0  0  0  0  0  0  0\\n    2.3401    2.0869    1.8149 F   0  0  0  0  0  0  0  0  0  0  0  0\\n    3.5804    0.2325    2.1315 F   0  0  0  0  0  0  0  0  0  0  0  0\\n    2.3599    1.0935    3.7732 F   0  0  0  0  0  0  0  0  0  0  0  0\\n  1  2  1  0\\n  2  3  1  0\\n  3  4  2  0\\n  4  5  1  0\\n  5  6  1  0\\n  6  7  2  0\\n  3  8  1  0\\n  8  9  1  0\\n  9 10  1  0\\n 10 11  2  0\\n 11 12  1  0\\n 12 13  2  0\\n 13 14  1  0\\n 14 15  2  0\\n 13 16  1  0\\n 16 17  1  0\\n 17 18  2  0\\n 18 19  1  0\\n 19 20  2  0\\n 20 21  1  0\\n 21 22  2  0\\n 21 23  1  0\\n 19 24  1  0\\n 24 25  3  0\\n 12 26  1  0\\n 26 27  1  0\\n 26 28  1  0\\n 26 29  1  0\\n  6  2  1  0\\n 14  9  1  0\\n 22 17  1  0\\nM  END\\n\",\"sdf\");\n\tviewer_16288362838366468.setStyle({\"stick\": {}});\n\tviewer_16288362838366468.setBackgroundColor(\"0xeeeeee\");\n\tviewer_16288362838366468.zoomTo();\nviewer_16288362838366468.render();\n});\n</script>",
      "text/html": [
       "<div id=\"3dmolviewer_16288362838366468\"  style=\"position: relative; width: 400px; height: 400px\">\n",
       "        <p id=\"3dmolwarning_16288362838366468\" style=\"background-color:#ffcccc;color:black\">You appear to be running in JupyterLab (or JavaScript failed to load for some other reason).  You need to install the 3dmol extension: <br>\n",
       "        <tt>jupyter labextension install jupyterlab_3dmol</tt></p>\n",
       "        </div>\n",
       "<script>\n",
       "\n",
       "var loadScriptAsync = function(uri){\n",
       "  return new Promise((resolve, reject) => {\n",
       "    var tag = document.createElement('script');\n",
       "    tag.src = uri;\n",
       "    tag.async = true;\n",
       "    tag.onload = () => {\n",
       "      resolve();\n",
       "    };\n",
       "  var firstScriptTag = document.getElementsByTagName('script')[0];\n",
       "  firstScriptTag.parentNode.insertBefore(tag, firstScriptTag);\n",
       "});\n",
       "};\n",
       "\n",
       "if(typeof $3Dmolpromise === 'undefined') {\n",
       "$3Dmolpromise = null;\n",
       "  $3Dmolpromise = loadScriptAsync('https://3dmol.org/build/3Dmol.js');\n",
       "}\n",
       "\n",
       "var viewer_16288362838366468 = null;\n",
       "var warn = document.getElementById(\"3dmolwarning_16288362838366468\");\n",
       "if(warn) {\n",
       "    warn.parentNode.removeChild(warn);\n",
       "}\n",
       "$3Dmolpromise.then(function() {\n",
       "viewer_16288362838366468 = $3Dmol.createViewer($(\"#3dmolviewer_16288362838366468\"),{backgroundColor:\"white\"});\n",
       "viewer_16288362838366468.zoomTo();\n",
       "\tviewer_16288362838366468.removeAllModels();\n",
       "\tviewer_16288362838366468.addModel(\"\\n     RDKit          3D\\n\\n 29 31  0  0  0  0  0  0  0  0999 V2000\\n   -4.6353   -2.3955   -1.1655 C   0  0  0  0  0  0  0  0  0  0  0  0\\n   -4.2600   -1.3380   -0.2016 N   0  0  0  0  0  0  0  0  0  0  0  0\\n   -3.2407   -1.3293    0.5065 C   0  0  0  0  0  0  0  0  0  0  0  0\\n   -3.2992   -0.1437    1.3072 N   0  0  0  0  0  0  0  0  0  0  0  0\\n   -4.4306    0.4839    0.9588 N   0  0  0  0  0  0  0  0  0  0  0  0\\n   -5.0426   -0.2260    0.0343 C   0  0  0  0  0  0  0  0  0  0  0  0\\n   -6.1102   -0.0573   -0.6008 O   0  0  0  0  0  0  0  0  0  0  0  0\\n   -2.0369   -2.2063    0.7472 C   0  0  0  0  0  0  0  0  0  0  0  0\\n   -0.8603   -1.4477    1.0929 N   0  0  0  0  0  0  0  0  0  0  0  0\\n   -0.7420   -1.1840    2.5083 C   0  0  0  0  0  0  0  0  0  0  0  0\\n    0.3307   -0.4528    2.8953 C   0  0  0  0  0  0  0  0  0  0  0  0\\n    1.2505    0.0127    2.0275 C   0  0  0  0  0  0  0  0  0  0  0  0\\n    1.1826   -0.2277    0.5697 C   0  0  0  0  0  0  0  0  0  0  0  0\\n    0.0769   -0.9545    0.3294 C   0  0  0  0  0  0  0  0  0  0  0  0\\n   -0.0802   -1.1972   -0.9650 O   0  0  0  0  0  0  0  0  0  0  0  0\\n    2.1818    0.3223   -0.0258 O   0  0  0  0  0  0  0  0  0  0  0  0\\n    2.5506    0.9158   -1.1805 C   0  0  0  0  0  0  0  0  0  0  0  0\\n    3.8231    1.5459   -0.9957 C   0  0  0  0  0  0  0  0  0  0  0  0\\n    4.4191    2.2299   -2.1596 C   0  0  0  0  0  0  0  0  0  0  0  0\\n    3.7772    2.2307   -3.2677 C   0  0  0  0  0  0  0  0  0  0  0  0\\n    2.5360    1.6215   -3.4643 C   0  0  0  0  0  0  0  0  0  0  0  0\\n    2.0258    1.0057   -2.3813 C   0  0  0  0  0  0  0  0  0  0  0  0\\n    1.8744    1.6655   -5.0887 Cl  0  0  0  0  0  0  0  0  0  0  0  0\\n    5.6690    2.8209   -1.8920 C   0  0  0  0  0  0  0  0  0  0  0  0\\n    6.8760    3.3729   -1.6289 N   0  0  0  0  0  0  0  0  0  0  0  0\\n    2.3787    0.8293    2.4541 C   0  0  0  0  0  0  0  0  0  0  0  0\\n    2.3401    2.0869    1.8149 F   0  0  0  0  0  0  0  0  0  0  0  0\\n    3.5804    0.2325    2.1315 F   0  0  0  0  0  0  0  0  0  0  0  0\\n    2.3599    1.0935    3.7732 F   0  0  0  0  0  0  0  0  0  0  0  0\\n  1  2  1  0\\n  2  3  1  0\\n  3  4  2  0\\n  4  5  1  0\\n  5  6  1  0\\n  6  7  2  0\\n  3  8  1  0\\n  8  9  1  0\\n  9 10  1  0\\n 10 11  2  0\\n 11 12  1  0\\n 12 13  2  0\\n 13 14  1  0\\n 14 15  2  0\\n 13 16  1  0\\n 16 17  1  0\\n 17 18  2  0\\n 18 19  1  0\\n 19 20  2  0\\n 20 21  1  0\\n 21 22  2  0\\n 21 23  1  0\\n 19 24  1  0\\n 24 25  3  0\\n 12 26  1  0\\n 26 27  1  0\\n 26 28  1  0\\n 26 29  1  0\\n  6  2  1  0\\n 14  9  1  0\\n 22 17  1  0\\nM  END\\n\",\"sdf\");\n",
       "\tviewer_16288362838366468.setStyle({\"stick\": {}});\n",
       "\tviewer_16288362838366468.setBackgroundColor(\"0xeeeeee\");\n",
       "\tviewer_16288362838366468.zoomTo();\n",
       "viewer_16288362838366468.render();\n",
       "});\n",
       "</script>"
      ]
     },
     "metadata": {},
     "output_type": "display_data"
    },
    {
     "data": {
      "image/png": "[encoded data removed]",
      "text/html": [],
      "text/plain": [
       "<rdkit.Chem.rdchem.Mol at 0x7f6e5d0c9b80>"
      ]
     },
     "execution_count": 6,
     "metadata": {},
     "output_type": "execute_result"
    }
   ],
   "source": [
    "from rdkit.Chem.Draw import IPythonConsole\n",
    "IPythonConsole.ipython_3d = True\n",
    "doravirine_3d = Chem.MolFromMolBlock('''\n",
    "     RDKit          3D\n",
    "\n",
    " 29 31  0  0  0  0  0  0  0  0999 V2000\n",
    "   -4.6353   -2.3955   -1.1655 C   0  0  0  0  0  0  0  0  0  0  0  0\n",
    "   -4.2600   -1.3380   -0.2016 N   0  0  0  0  0  0  0  0  0  0  0  0\n",
    "   -3.2407   -1.3293    0.5065 C   0  0  0  0  0  0  0  0  0  0  0  0\n",
    "   -3.2992   -0.1437    1.3072 N   0  0  0  0  0  0  0  0  0  0  0  0\n",
    "   -4.4306    0.4839    0.9588 N   0  0  0  0  0  0  0  0  0  0  0  0\n",
    "   -5.0426   -0.2260    0.0343 C   0  0  0  0  0  0  0  0  0  0  0  0\n",
    "   -6.1102   -0.0573   -0.6008 O   0  0  0  0  0  0  0  0  0  0  0  0\n",
    "   -2.0369   -2.2063    0.7472 C   0  0  0  0  0  0  0  0  0  0  0  0\n",
    "   -0.8603   -1.4477    1.0929 N   0  0  0  0  0  0  0  0  0  0  0  0\n",
    "   -0.7420   -1.1840    2.5083 C   0  0  0  0  0  0  0  0  0  0  0  0\n",
    "    0.3307   -0.4528    2.8953 C   0  0  0  0  0  0  0  0  0  0  0  0\n",
    "    1.2505    0.0127    2.0275 C   0  0  0  0  0  0  0  0  0  0  0  0\n",
    "    1.1826   -0.2277    0.5697 C   0  0  0  0  0  0  0  0  0  0  0  0\n",
    "    0.0769   -0.9545    0.3294 C   0  0  0  0  0  0  0  0  0  0  0  0\n",
    "   -0.0802   -1.1972   -0.9650 O   0  0  0  0  0  0  0  0  0  0  0  0\n",
    "    2.1818    0.3223   -0.0258 O   0  0  0  0  0  0  0  0  0  0  0  0\n",
    "    2.5506    0.9158   -1.1805 C   0  0  0  0  0  0  0  0  0  0  0  0\n",
    "    3.8231    1.5459   -0.9957 C   0  0  0  0  0  0  0  0  0  0  0  0\n",
    "    4.4191    2.2299   -2.1596 C   0  0  0  0  0  0  0  0  0  0  0  0\n",
    "    3.7772    2.2307   -3.2677 C   0  0  0  0  0  0  0  0  0  0  0  0\n",
    "    2.5360    1.6215   -3.4643 C   0  0  0  0  0  0  0  0  0  0  0  0\n",
    "    2.0258    1.0057   -2.3813 C   0  0  0  0  0  0  0  0  0  0  0  0\n",
    "    1.8744    1.6655   -5.0887 Cl  0  0  0  0  0  0  0  0  0  0  0  0\n",
    "    5.6690    2.8209   -1.8920 C   0  0  0  0  0  0  0  0  0  0  0  0\n",
    "    6.8760    3.3729   -1.6289 N   0  0  0  0  0  0  0  0  0  0  0  0\n",
    "    2.3787    0.8293    2.4541 C   0  0  0  0  0  0  0  0  0  0  0  0\n",
    "    2.3401    2.0869    1.8149 F   0  0  0  0  0  0  0  0  0  0  0  0\n",
    "    3.5804    0.2325    2.1315 F   0  0  0  0  0  0  0  0  0  0  0  0\n",
    "    2.3599    1.0935    3.7732 F   0  0  0  0  0  0  0  0  0  0  0  0\n",
    "  1  2  1  0\n",
    "  2  3  1  0\n",
    "  3  4  2  0\n",
    "  4  5  1  0\n",
    "  5  6  1  0\n",
    "  6  7  2  0\n",
    "  3  8  1  0\n",
    "  8  9  1  0\n",
    "  9 10  1  0\n",
    " 10 11  2  0\n",
    " 11 12  1  0\n",
    " 12 13  2  0\n",
    " 13 14  1  0\n",
    " 14 15  2  0\n",
    " 13 16  1  0\n",
    " 16 17  1  0\n",
    " 17 18  2  0\n",
    " 18 19  1  0\n",
    " 19 20  2  0\n",
    " 20 21  1  0\n",
    " 21 22  2  0\n",
    " 21 23  1  0\n",
    " 19 24  1  0\n",
    " 24 25  3  0\n",
    " 12 26  1  0\n",
    " 26 27  1  0\n",
    " 26 28  1  0\n",
    " 26 29  1  0\n",
    "  6  2  1  0\n",
    " 14  9  1  0\n",
    " 22 17  1  0\n",
    "M  END''')\n",
    "doravirine_3d"
   ]
  },
  {
   "cell_type": "code",
   "execution_count": null,
   "id": "e71d1836",
   "metadata": {},
   "outputs": [],
   "source": []
  }
 ],
 "metadata": {
  "kernelspec": {
   "display_name": "Python 3 (ipykernel)",
   "language": "python",
   "name": "python3"
  },
  "language_info": {
   "codemirror_mode": {
    "name": "ipython",
    "version": 3
   },
   "file_extension": ".py",
   "mimetype": "text/x-python",
   "name": "python",
   "nbconvert_exporter": "python",
   "pygments_lexer": "ipython3",
   "version": "3.8.10"
  },
  "toc": {
   "base_numbering": 1,
   "nav_menu": {},
   "number_sections": true,
   "sideBar": true,
   "skip_h1_title": false,
   "title_cell": "Table of Contents",
   "title_sidebar": "Contents",
   "toc_cell": false,
   "toc_position": {},
   "toc_section_display": true,
   "toc_window_display": false
  }
 },
 "nbformat": 4,
 "nbformat_minor": 5
}

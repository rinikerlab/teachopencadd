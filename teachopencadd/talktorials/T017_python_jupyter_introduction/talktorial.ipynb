{
 "cells": [
  {
   "cell_type": "markdown",
   "id": "desperate-technician",
   "metadata": {},
   "source": [
    "# Welcome to the Jupyter notebook.\n",
    "\n",
    "## What is this?\n",
    "\n",
    "It's a tool allowing you to combine the following stuff in one place:\n",
    "- code, in this case Python\n",
    "- output from that code, including images\n",
    "- text, including images and mathematical formulas\n",
    "- interactive widgets\n",
    "\n",
    "The notebook itself can be used in an interactive way - you can execute code cells, add new ones, etc - or viewed as a static document.\n",
    "\n",
    "## More resources\n",
    "\n",
    "There's a bunch of material out there explaining how to use Jupyter and showing what's possible with it.\n",
    "Here's one tutorial we found useful:\n",
    "https://www.dataquest.io/blog/jupyter-notebook-tutorial/\n"
   ]
  },
  {
   "cell_type": "markdown",
   "id": "fewer-astrology",
   "metadata": {},
   "source": [
    "# Whirlwind tour of the notebook"
   ]
  },
  {
   "attachments": {
    "image.png": {
     "image/png": "[encoded data removed]"
    }
   },
   "cell_type": "markdown",
   "id": "remarkable-income",
   "metadata": {},
   "source": [
    "## Markdown cells\n",
    "\n",
    "This is a markdown cell. You can tell that by selecting the cell and looking in the jupyter toolbar:\n",
    "![image.png](attachment:image.png)\n",
    "\n",
    "Markdown is a simple markup language (like HTML) for doing nicely formatted text. You can read more about that [here](https://daringfireball.net/projects/markdown/) or find a introduction to how to use Markdown in jupyter [here](https://nbviewer.jupyter.org/github/ipython/ipython/blob/3.x/examples/Notebook/Working%20With%20Markdown%20Cells.ipynb). The Help menu above has more useful links.\n",
    "\n",
    "\n"
   ]
  },
  {
   "cell_type": "markdown",
   "id": "interesting-romania",
   "metadata": {},
   "source": [
    "The cell below this one is a code cell. You can enter Python code there. When you execute the cell (Ctrl-Enter on Linux/Windows, Cmd-Enter on the Mac, or Cell->Run Cells from the menu) that code will be executed and the output displayed below it:"
   ]
  },
  {
   "cell_type": "code",
   "execution_count": 1,
   "id": "alpine-trustee",
   "metadata": {},
   "outputs": [
    {
     "name": "stdout",
     "output_type": "stream",
     "text": [
      "hello notebook\n"
     ]
    }
   ],
   "source": [
    "print(\"hello notebook\")"
   ]
  },
  {
   "cell_type": "markdown",
   "id": "delayed-consequence",
   "metadata": {},
   "source": [
    "The notebook will also display whatever is on the last line of the cell:"
   ]
  },
  {
   "cell_type": "code",
   "execution_count": 3,
   "id": "approved-shareware",
   "metadata": {},
   "outputs": [
    {
     "name": "stdout",
     "output_type": "stream",
     "text": [
      "adding values:\n"
     ]
    },
    {
     "data": {
      "text/plain": [
       "6"
      ]
     },
     "execution_count": 3,
     "metadata": {},
     "output_type": "execute_result"
    }
   ],
   "source": [
    "a = 2\n",
    "b = 4\n",
    "print(\"adding values:\")\n",
    "a+b"
   ]
  },
  {
   "cell_type": "code",
   "execution_count": null,
   "id": "surgical-knock",
   "metadata": {},
   "outputs": [],
   "source": []
  }
 ],
 "metadata": {
  "kernelspec": {
   "display_name": "Python 3",
   "language": "python",
   "name": "python3"
  },
  "language_info": {
   "codemirror_mode": {
    "name": "ipython",
    "version": 3
   },
   "file_extension": ".py",
   "mimetype": "text/x-python",
   "name": "python",
   "nbconvert_exporter": "python",
   "pygments_lexer": "ipython3",
   "version": "3.7.4"
  },
  "toc": {
   "base_numbering": 1,
   "nav_menu": {},
   "number_sections": true,
   "sideBar": true,
   "skip_h1_title": false,
   "title_cell": "Table of Contents",
   "title_sidebar": "Contents",
   "toc_cell": false,
   "toc_position": {},
   "toc_section_display": true,
   "toc_window_display": false
  }
 },
 "nbformat": 4,
 "nbformat_minor": 5
}
